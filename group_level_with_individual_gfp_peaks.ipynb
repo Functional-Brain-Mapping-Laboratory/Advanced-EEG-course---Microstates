{
  "cells": [
    {
      "cell_type": "code",
      "execution_count": null,
      "metadata": {
        "collapsed": false
      },
      "outputs": [],
      "source": [
        "%matplotlib inline"
      ]
    },
    {
      "cell_type": "markdown",
      "metadata": {},
      "source": [
        "\n# Group level analysis from individual gfp peaks\n\nIn this tutorial, we will learn how to conduct group level analysis\nby computing group level topographies based on individual gfp peaks.\n"
      ]
    },
    {
      "cell_type": "markdown",
      "metadata": {},
      "source": [
        "<div class=\"alert alert-info\"><h4>Note</h4><p>The lemon datasets is composed of EEGLAB files. To use the MNE reader\n    :func:`mne.io.read_raw_eeglab`, the ``pymatreader`` optional dependency\n    is required. Use the following installation method appropriate for your\n    environment:\n\n    - ``pip install pymatreader``\n    - ``conda install -c conda-forge pymatreader``\n\n    Note that an environment created via the MNE installers includes\n    ``pymatreader`` by default.</p></div>\n\n"
      ]
    },
    {
      "cell_type": "code",
      "execution_count": null,
      "metadata": {
        "collapsed": false
      },
      "outputs": [],
      "source": [
        "from mne.io import read_raw_eeglab\n\nfrom pycrostates.cluster import ModKMeans\nfrom pycrostates.datasets import lemon\nfrom pycrostates.preprocessing import extract_gfp_peaks, resample\nfrom pycrostates.io import ChData\n\ncondition = \"EO\"\nsubject_ids = [\"010020\", \"010021\", \"010022\", \"010023\", \"010024\"]"
      ]
    },
    {
      "cell_type": "markdown",
      "metadata": {},
      "source": [
        "In this example, we first extract individual\nGFP peaks. Then we concatenate them into\na single dataset in order to submit it to\nclustering (group level analysis).\n\n"
      ]
    },
    {
      "cell_type": "code",
      "execution_count": null,
      "metadata": {
        "collapsed": false
      },
      "outputs": [],
      "source": [
        "import numpy as np\n\nModK = ModKMeans(n_clusters=5, random_state=42)\nn_jobs = 2\n\nindividual_gfp_peaks = list()\nfor subject_id in subject_ids:\n    # Load Data\n    raw_fname = lemon.data_path(subject_id=subject_id, condition=condition)\n    raw = read_raw_eeglab(raw_fname, preload=True)\n    raw = lemon.standardize(raw)\n    raw.pick(\"eeg\")\n    # For sake of time, we only use 30s of recording.\n    raw.crop(0, 30)\n    raw.set_eeg_reference(\"average\")\n    # Extract GFP peaks\n    gfp_peaks = extract_gfp_peaks(raw)\n    # Equalize peak number across subjects\n    gfp_peaks = resample(\n        gfp_peaks, n_resamples=1, n_samples=880, random_state=42\n    )[0]\n    individual_gfp_peaks.append(gfp_peaks.get_data())\n\nindividual_gfp_peaks = np.hstack(individual_gfp_peaks)\nindividual_gfp_peaks = ChData(individual_gfp_peaks, raw.info)\n# Group level clustering\nModK.fit(individual_gfp_peaks, n_jobs=n_jobs)\nModK.plot()"
      ]
    },
    {
      "cell_type": "markdown",
      "metadata": {},
      "source": [
        "We can reorganize our clustering results to our needs.\n\n"
      ]
    },
    {
      "cell_type": "code",
      "execution_count": null,
      "metadata": {
        "collapsed": false
      },
      "outputs": [],
      "source": [
        "ModK.reorder_clusters(order=[0, 2, 4, 3, 1])\nModK.rename_clusters(new_names=[\"A\", \"B\", \"C\", \"D\", \"F\"])\nModK.plot()"
      ]
    },
    {
      "cell_type": "markdown",
      "metadata": {},
      "source": [
        "We can now backfit the group level maps\nto each individual recording and extract\nmicrostate parameters.\n\n"
      ]
    },
    {
      "cell_type": "code",
      "execution_count": null,
      "metadata": {
        "collapsed": false
      },
      "outputs": [],
      "source": [
        "import pandas as pd\n\nms_data = list()\nfor subject_id in subject_ids:\n    # Load Data\n    raw_fname = lemon.data_path(subject_id=subject_id, condition=condition)\n    raw = read_raw_eeglab(raw_fname, preload=True)\n    raw = lemon.standardize(raw)\n    raw.pick(\"eeg\")\n    raw.crop(0, 30)  # for sake of time\n    raw.set_eeg_reference(\"average\")\n    segmentation = ModK.predict(raw, factor=10, half_window_size=8)\n    d = segmentation.compute_parameters()\n    d[\"subject_id\"] = subject_id\n    ms_data.append(d)\n\nms_data = pd.DataFrame(ms_data)\nms_data"
      ]
    }
  ],
  "metadata": {
    "kernelspec": {
      "display_name": "Python 3",
      "language": "python",
      "name": "python3"
    },
    "language_info": {
      "codemirror_mode": {
        "name": "ipython",
        "version": 3
      },
      "file_extension": ".py",
      "mimetype": "text/x-python",
      "name": "python",
      "nbconvert_exporter": "python",
      "pygments_lexer": "ipython3",
      "version": "3.8.13"
    }
  },
  "nbformat": 4,
  "nbformat_minor": 0
}