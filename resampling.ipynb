{
  "cells": [
    {
      "cell_type": "code",
      "execution_count": null,
      "metadata": {
        "collapsed": false
      },
      "outputs": [],
      "source": [
        "%matplotlib inline"
      ]
    },
    {
      "cell_type": "markdown",
      "metadata": {},
      "source": [
        "\n# Resampling\n\nThis example demonstrates how to resample a recording.\n"
      ]
    },
    {
      "cell_type": "markdown",
      "metadata": {},
      "source": [
        "<div class=\"alert alert-info\"><h4>Note</h4><p>The lemon datasets is composed of EEGLAB files. To use the MNE reader\n    :func:`mne.io.read_raw_eeglab`, the ``pymatreader`` optional dependency\n    is required. Use the following installation method appropriate for your\n    environment:\n\n    - ``pip install pymatreader``\n    - ``conda install -c conda-forge pymatreader``\n\n    Note that an environment created via the MNE installers includes\n    ``pymatreader`` by default.</p></div>\n\n"
      ]
    },
    {
      "cell_type": "code",
      "execution_count": null,
      "metadata": {
        "collapsed": false
      },
      "outputs": [],
      "source": [
        "import mne\nfrom mne.io import read_raw_eeglab\n\nfrom pycrostates.datasets import lemon\n\n\nraw_fname = lemon.data_path(subject_id='010004', condition='EC')\nraw = read_raw_eeglab(raw_fname, preload=True)\nraw.crop(0, 30)\n\nraw.pick('eeg')\nraw.set_eeg_reference('average')"
      ]
    },
    {
      "cell_type": "markdown",
      "metadata": {},
      "source": [
        "We can now use the :func:`~pycrostates.preprocessing.resample` function to\ndraw ``n_resamples`` of ``n_samples`` for our recording where ``n_samples``\ndefines the number of samples contained in each epoch and ``n_resamples``\ndefines the number of epochs to draw.\n\n"
      ]
    },
    {
      "cell_type": "code",
      "execution_count": null,
      "metadata": {
        "collapsed": false
      },
      "outputs": [],
      "source": [
        "from pycrostates.preprocessing import resample\nresamples = resample(raw, n_resamples=10, n_samples=150, random_state=40)\nresamples"
      ]
    },
    {
      "cell_type": "markdown",
      "metadata": {},
      "source": [
        "We can also use the ``coverage`` parameter to automatically compute one of\nthe two previous parameters based on the amount of original data we want to\ncover. For example by setting ``n_resamples`` and ``coverage``:\n\n"
      ]
    },
    {
      "cell_type": "code",
      "execution_count": null,
      "metadata": {
        "collapsed": false
      },
      "outputs": [],
      "source": [
        "resamples = resample(raw, n_resamples=10, coverage=0.5, random_state=40)\nresamples"
      ]
    },
    {
      "cell_type": "markdown",
      "metadata": {},
      "source": [
        "or by setting ``n_samples`` and ``coverage``:\n\n"
      ]
    },
    {
      "cell_type": "code",
      "execution_count": null,
      "metadata": {
        "collapsed": false
      },
      "outputs": [],
      "source": [
        "resamples = resample(raw, n_samples=150, coverage=0.5, random_state=40)\nresamples"
      ]
    },
    {
      "cell_type": "markdown",
      "metadata": {},
      "source": [
        "Finally, we can also use this function to resample :class:`~mne.Epochs`\n\n"
      ]
    },
    {
      "cell_type": "code",
      "execution_count": null,
      "metadata": {
        "collapsed": false
      },
      "outputs": [],
      "source": [
        "epochs = mne.make_fixed_length_epochs(raw, duration=2, preload=True)\nresamples = resample(epochs, n_samples=150, coverage=0.5, random_state=40)\nresamples"
      ]
    }
  ],
  "metadata": {
    "kernelspec": {
      "display_name": "Python 3",
      "language": "python",
      "name": "python3"
    },
    "language_info": {
      "codemirror_mode": {
        "name": "ipython",
        "version": 3
      },
      "file_extension": ".py",
      "mimetype": "text/x-python",
      "name": "python",
      "nbconvert_exporter": "python",
      "pygments_lexer": "ipython3",
      "version": "3.8.13"
    }
  },
  "nbformat": 4,
  "nbformat_minor": 0
}